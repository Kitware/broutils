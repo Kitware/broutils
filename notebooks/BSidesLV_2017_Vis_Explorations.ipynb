{
 "cells": [
  {
   "cell_type": "markdown",
   "metadata": {},
   "source": [
    "\n",
    "# Exploration of Novel Visualizations for Information Security\n",
    "Effective visualizations for information security data are challenging. Given the streaming nature of network data and the mix of numeric and categorical types (e.g. DNS records) visualizations that are meaningful and informative are often hard to find.\n",
    "\n",
    "In this presentation we’ll explore several novel visualization approaches for information security data. Our **non-traditional** approaches will explore dynamic updates, mixed categorical/numeric representations, animations and other experimental facets. We intend to present our findings ‘warts’ and all. The presentation will include approaches that worked reasonably well and those that flopped (which is often just as informative).\n",
    "\n",
    "<div style=\"float: right; margin: 20px 20px 20px 20px\"><img src=\"images/exploration.jpg\"></div>\n",
    "## Presentation Outline\n",
    "- Who we are\n",
    "    - Roni Choudhury\n",
    "    - Brian Wylie\n",
    "  \n",
    "  \n",
    "- Overview of existing visualizations\n",
    "    - Splunk\n",
    "    - ELK\n",
    "    - EndGame\n",
    "\n",
    "\n",
    "- Challenges for Information Security Data\n",
    "    - Streaming data\n",
    "    - Categorical data\n",
    "    - Near real time\n",
    "\n",
    "\n",
    "- Tools, Libraries, and Languages\n",
    "    - Javascript/D3 \n",
    "    - Python\n",
    "    - Bro IDS\n",
    "    \n",
    "    \n",
    "- Demos\n",
    "    - Demo 1\n",
    "    - Demo 2\n",
    "    \n",
    "    \n",
    "- Questions\n"
   ]
  },
  {
   "cell_type": "markdown",
   "metadata": {},
   "source": []
  }
 ],
 "metadata": {
  "kernelspec": {
   "display_name": "Python 3",
   "language": "python",
   "name": "python3"
  },
  "language_info": {
   "codemirror_mode": {
    "name": "ipython",
    "version": 3
   },
   "file_extension": ".py",
   "mimetype": "text/x-python",
   "name": "python",
   "nbconvert_exporter": "python",
   "pygments_lexer": "ipython3",
   "version": "3.6.0"
  }
 },
 "nbformat": 4,
 "nbformat_minor": 2
}
