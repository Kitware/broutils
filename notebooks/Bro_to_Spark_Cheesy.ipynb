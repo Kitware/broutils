{
 "cells": [
  {
   "cell_type": "markdown",
   "metadata": {},
   "source": [
    "<div style=\"float: right; margin: 20px 20px 20px 20px\"><img src=\"images/cheesy.jpg\" width=\"250px\"></div>\n",
    "\n",
    "# Bro to Spark: Cheesy/Easy Way\n",
    "**NOTE:** This is NOT the correct way to go from Bro to Spark. We're going to be using local data and a local Spark kernel which obviously won't scale at all. But if you just want to explore Spark with some smaller datasets this is a super **EASY** way to get started. \n",
    "\n",
    "All you need to install for this notebook/approach is:\n",
    "\n",
    "    $ pip install bat pyspark \n",
    "\n",
    "For the correct (but more complicated) way please see our Bro to Spark notebooks:\n",
    "- https://github.com/SuperCowPowers/bat/blob/master/notebooks/Bro_to_Parquet_to_Spark.ipynb\n",
    "- https://github.com/SuperCowPowers/bat/blob/master/notebooks/Bro_to_Kafka_to_Spark.ipynb\n",
    "\n",
    "<div style=\"float: right; margin: 0px 0px 0px 0px\"><img src=\"images/bro.png\" width=\"100px\"></div>\n",
    "\n",
    "You can test whether spark is installed correctly by starting up the spark shell.\n",
    "    \n",
    "    $ spark-shell\n",
    "\n",
    "There are some warnings and stuff but if you get this you have successfully installed spark.\n",
    "You can quit the shell by typing ':quit' and the scala> prompt\n",
    "<div style=\"float: right; margin: 20px 20px 20px 20px\"><img src=\"images/spark.png\" width=\"250px\"></div>\n",
    "<div style=\"margin: 20px 20px 20px 20px\"><img align=\"left\" src=\"images/spark_shell.png\" width=\"400px\"></div>"
   ]
  },
  {
   "cell_type": "code",
   "execution_count": 1,
   "metadata": {},
   "outputs": [],
   "source": [
    "from pyspark.sql import SparkSession\n",
    "from bat.log_to_dataframe import LogToDataFrame\n",
    "import pandas as pd"
   ]
  },
  {
   "cell_type": "code",
   "execution_count": 2,
   "metadata": {},
   "outputs": [
    {
     "data": {
      "text/html": [
       "<div>\n",
       "<style scoped>\n",
       "    .dataframe tbody tr th:only-of-type {\n",
       "        vertical-align: middle;\n",
       "    }\n",
       "\n",
       "    .dataframe tbody tr th {\n",
       "        vertical-align: top;\n",
       "    }\n",
       "\n",
       "    .dataframe thead th {\n",
       "        text-align: right;\n",
       "    }\n",
       "</style>\n",
       "<table border=\"1\" class=\"dataframe\">\n",
       "  <thead>\n",
       "    <tr style=\"text-align: right;\">\n",
       "      <th></th>\n",
       "      <th>uid</th>\n",
       "      <th>id.orig_h</th>\n",
       "      <th>id.orig_p</th>\n",
       "      <th>id.resp_h</th>\n",
       "      <th>id.resp_p</th>\n",
       "      <th>proto</th>\n",
       "      <th>trans_id</th>\n",
       "      <th>query</th>\n",
       "      <th>qclass</th>\n",
       "      <th>qclass_name</th>\n",
       "      <th>...</th>\n",
       "      <th>rcode</th>\n",
       "      <th>rcode_name</th>\n",
       "      <th>AA</th>\n",
       "      <th>TC</th>\n",
       "      <th>RD</th>\n",
       "      <th>RA</th>\n",
       "      <th>Z</th>\n",
       "      <th>answers</th>\n",
       "      <th>TTLs</th>\n",
       "      <th>rejected</th>\n",
       "    </tr>\n",
       "    <tr>\n",
       "      <th>ts</th>\n",
       "      <th></th>\n",
       "      <th></th>\n",
       "      <th></th>\n",
       "      <th></th>\n",
       "      <th></th>\n",
       "      <th></th>\n",
       "      <th></th>\n",
       "      <th></th>\n",
       "      <th></th>\n",
       "      <th></th>\n",
       "      <th></th>\n",
       "      <th></th>\n",
       "      <th></th>\n",
       "      <th></th>\n",
       "      <th></th>\n",
       "      <th></th>\n",
       "      <th></th>\n",
       "      <th></th>\n",
       "      <th></th>\n",
       "      <th></th>\n",
       "      <th></th>\n",
       "    </tr>\n",
       "  </thead>\n",
       "  <tbody>\n",
       "    <tr>\n",
       "      <td>2013-09-15 23:44:27.631940126</td>\n",
       "      <td>CZGShC2znK1sV7jdI7</td>\n",
       "      <td>192.168.33.10</td>\n",
       "      <td>1030</td>\n",
       "      <td>4.2.2.3</td>\n",
       "      <td>53</td>\n",
       "      <td>udp</td>\n",
       "      <td>44949</td>\n",
       "      <td>guyspy.com</td>\n",
       "      <td>1</td>\n",
       "      <td>C_INTERNET</td>\n",
       "      <td>...</td>\n",
       "      <td>0</td>\n",
       "      <td>NOERROR</td>\n",
       "      <td>F</td>\n",
       "      <td>F</td>\n",
       "      <td>T</td>\n",
       "      <td>T</td>\n",
       "      <td>0</td>\n",
       "      <td>54.245.228.191</td>\n",
       "      <td>36.000000</td>\n",
       "      <td>F</td>\n",
       "    </tr>\n",
       "    <tr>\n",
       "      <td>2013-09-15 23:44:27.696868896</td>\n",
       "      <td>CZGShC2znK1sV7jdI7</td>\n",
       "      <td>192.168.33.10</td>\n",
       "      <td>1030</td>\n",
       "      <td>4.2.2.3</td>\n",
       "      <td>53</td>\n",
       "      <td>udp</td>\n",
       "      <td>50071</td>\n",
       "      <td>www.guyspy.com</td>\n",
       "      <td>1</td>\n",
       "      <td>C_INTERNET</td>\n",
       "      <td>...</td>\n",
       "      <td>0</td>\n",
       "      <td>NOERROR</td>\n",
       "      <td>F</td>\n",
       "      <td>F</td>\n",
       "      <td>T</td>\n",
       "      <td>T</td>\n",
       "      <td>0</td>\n",
       "      <td>guyspy.com,54.245.228.191</td>\n",
       "      <td>1000.000000,36.000000</td>\n",
       "      <td>F</td>\n",
       "    </tr>\n",
       "    <tr>\n",
       "      <td>2013-09-15 23:44:28.060639143</td>\n",
       "      <td>CZGShC2znK1sV7jdI7</td>\n",
       "      <td>192.168.33.10</td>\n",
       "      <td>1030</td>\n",
       "      <td>4.2.2.3</td>\n",
       "      <td>53</td>\n",
       "      <td>udp</td>\n",
       "      <td>39062</td>\n",
       "      <td>devrubn8mli40.cloudfront.net</td>\n",
       "      <td>1</td>\n",
       "      <td>C_INTERNET</td>\n",
       "      <td>...</td>\n",
       "      <td>0</td>\n",
       "      <td>NOERROR</td>\n",
       "      <td>F</td>\n",
       "      <td>F</td>\n",
       "      <td>T</td>\n",
       "      <td>T</td>\n",
       "      <td>0</td>\n",
       "      <td>54.230.86.87,54.230.86.18,54.230.87.160,54.230...</td>\n",
       "      <td>60.000000,60.000000,60.000000,60.000000,60.000...</td>\n",
       "      <td>F</td>\n",
       "    </tr>\n",
       "    <tr>\n",
       "      <td>2013-09-15 23:44:28.141794920</td>\n",
       "      <td>CZGShC2znK1sV7jdI7</td>\n",
       "      <td>192.168.33.10</td>\n",
       "      <td>1030</td>\n",
       "      <td>4.2.2.3</td>\n",
       "      <td>53</td>\n",
       "      <td>udp</td>\n",
       "      <td>7312</td>\n",
       "      <td>d31qbv1cthcecs.cloudfront.net</td>\n",
       "      <td>1</td>\n",
       "      <td>C_INTERNET</td>\n",
       "      <td>...</td>\n",
       "      <td>0</td>\n",
       "      <td>NOERROR</td>\n",
       "      <td>F</td>\n",
       "      <td>F</td>\n",
       "      <td>T</td>\n",
       "      <td>T</td>\n",
       "      <td>0</td>\n",
       "      <td>54.230.86.87,54.230.86.18,54.230.84.20,54.230....</td>\n",
       "      <td>60.000000,60.000000,60.000000,60.000000,60.000...</td>\n",
       "      <td>F</td>\n",
       "    </tr>\n",
       "    <tr>\n",
       "      <td>2013-09-15 23:44:28.422703981</td>\n",
       "      <td>CZGShC2znK1sV7jdI7</td>\n",
       "      <td>192.168.33.10</td>\n",
       "      <td>1030</td>\n",
       "      <td>4.2.2.3</td>\n",
       "      <td>53</td>\n",
       "      <td>udp</td>\n",
       "      <td>41872</td>\n",
       "      <td>crl.entrust.net</td>\n",
       "      <td>1</td>\n",
       "      <td>C_INTERNET</td>\n",
       "      <td>...</td>\n",
       "      <td>0</td>\n",
       "      <td>NOERROR</td>\n",
       "      <td>F</td>\n",
       "      <td>F</td>\n",
       "      <td>T</td>\n",
       "      <td>T</td>\n",
       "      <td>0</td>\n",
       "      <td>cdn.entrust.net.c.footprint.net,192.221.123.25...</td>\n",
       "      <td>4993.000000,129.000000,129.000000,129.000000</td>\n",
       "      <td>F</td>\n",
       "    </tr>\n",
       "  </tbody>\n",
       "</table>\n",
       "<p>5 rows × 22 columns</p>\n",
       "</div>"
      ],
      "text/plain": [
       "                                              uid      id.orig_h  id.orig_p  \\\n",
       "ts                                                                            \n",
       "2013-09-15 23:44:27.631940126  CZGShC2znK1sV7jdI7  192.168.33.10       1030   \n",
       "2013-09-15 23:44:27.696868896  CZGShC2znK1sV7jdI7  192.168.33.10       1030   \n",
       "2013-09-15 23:44:28.060639143  CZGShC2znK1sV7jdI7  192.168.33.10       1030   \n",
       "2013-09-15 23:44:28.141794920  CZGShC2znK1sV7jdI7  192.168.33.10       1030   \n",
       "2013-09-15 23:44:28.422703981  CZGShC2znK1sV7jdI7  192.168.33.10       1030   \n",
       "\n",
       "                              id.resp_h  id.resp_p proto  trans_id  \\\n",
       "ts                                                                   \n",
       "2013-09-15 23:44:27.631940126   4.2.2.3         53   udp     44949   \n",
       "2013-09-15 23:44:27.696868896   4.2.2.3         53   udp     50071   \n",
       "2013-09-15 23:44:28.060639143   4.2.2.3         53   udp     39062   \n",
       "2013-09-15 23:44:28.141794920   4.2.2.3         53   udp      7312   \n",
       "2013-09-15 23:44:28.422703981   4.2.2.3         53   udp     41872   \n",
       "\n",
       "                                                       query  qclass  \\\n",
       "ts                                                                     \n",
       "2013-09-15 23:44:27.631940126                     guyspy.com       1   \n",
       "2013-09-15 23:44:27.696868896                 www.guyspy.com       1   \n",
       "2013-09-15 23:44:28.060639143   devrubn8mli40.cloudfront.net       1   \n",
       "2013-09-15 23:44:28.141794920  d31qbv1cthcecs.cloudfront.net       1   \n",
       "2013-09-15 23:44:28.422703981                crl.entrust.net       1   \n",
       "\n",
       "                              qclass_name  ...  rcode rcode_name  AA TC RD RA  \\\n",
       "ts                                         ...                                  \n",
       "2013-09-15 23:44:27.631940126  C_INTERNET  ...      0    NOERROR   F  F  T  T   \n",
       "2013-09-15 23:44:27.696868896  C_INTERNET  ...      0    NOERROR   F  F  T  T   \n",
       "2013-09-15 23:44:28.060639143  C_INTERNET  ...      0    NOERROR   F  F  T  T   \n",
       "2013-09-15 23:44:28.141794920  C_INTERNET  ...      0    NOERROR   F  F  T  T   \n",
       "2013-09-15 23:44:28.422703981  C_INTERNET  ...      0    NOERROR   F  F  T  T   \n",
       "\n",
       "                               Z  \\\n",
       "ts                                 \n",
       "2013-09-15 23:44:27.631940126  0   \n",
       "2013-09-15 23:44:27.696868896  0   \n",
       "2013-09-15 23:44:28.060639143  0   \n",
       "2013-09-15 23:44:28.141794920  0   \n",
       "2013-09-15 23:44:28.422703981  0   \n",
       "\n",
       "                                                                         answers  \\\n",
       "ts                                                                                 \n",
       "2013-09-15 23:44:27.631940126                                     54.245.228.191   \n",
       "2013-09-15 23:44:27.696868896                          guyspy.com,54.245.228.191   \n",
       "2013-09-15 23:44:28.060639143  54.230.86.87,54.230.86.18,54.230.87.160,54.230...   \n",
       "2013-09-15 23:44:28.141794920  54.230.86.87,54.230.86.18,54.230.84.20,54.230....   \n",
       "2013-09-15 23:44:28.422703981  cdn.entrust.net.c.footprint.net,192.221.123.25...   \n",
       "\n",
       "                                                                            TTLs  \\\n",
       "ts                                                                                 \n",
       "2013-09-15 23:44:27.631940126                                          36.000000   \n",
       "2013-09-15 23:44:27.696868896                              1000.000000,36.000000   \n",
       "2013-09-15 23:44:28.060639143  60.000000,60.000000,60.000000,60.000000,60.000...   \n",
       "2013-09-15 23:44:28.141794920  60.000000,60.000000,60.000000,60.000000,60.000...   \n",
       "2013-09-15 23:44:28.422703981       4993.000000,129.000000,129.000000,129.000000   \n",
       "\n",
       "                              rejected  \n",
       "ts                                      \n",
       "2013-09-15 23:44:27.631940126        F  \n",
       "2013-09-15 23:44:27.696868896        F  \n",
       "2013-09-15 23:44:28.060639143        F  \n",
       "2013-09-15 23:44:28.141794920        F  \n",
       "2013-09-15 23:44:28.422703981        F  \n",
       "\n",
       "[5 rows x 22 columns]"
      ]
     },
     "execution_count": 2,
     "metadata": {},
     "output_type": "execute_result"
    }
   ],
   "source": [
    "# Convert Bro log to Pandas DataFrame\n",
    "log_to_df = LogToDataFrame()\n",
    "dns_df = log_to_df.create_dataframe('../data/dns.log')\n",
    "dns_df.head()"
   ]
  },
  {
   "cell_type": "markdown",
   "metadata": {},
   "source": [
    "<div style=\"float: right; margin: 20px 20px 20px 20px\"><img src=\"images/spark.png\" width=\"200px\"></div>\n",
    "\n",
    "# Spark It!\n",
    "### Spin up Spark with 4 Parallel Executors\n",
    "Here we're spinning up a local spark server with 4 parallel executors, although this might seem a bit silly since we're probably running this on a laptop, there are a couple of important observations:\n",
    "\n",
    "<div style=\"float: right; margin: 20px 20px 20px 20px\"><img src=\"images/spark_jobs.png\" width=\"400px\"></div>\n",
    "\n",
    "- If you have 4/8 cores use them!\n",
    "- It's the exact same code logic as if we were running on a distributed cluster.\n",
    "- We run the same code on **DataBricks** (www.databricks.com) which is awesome BTW."
   ]
  },
  {
   "cell_type": "code",
   "execution_count": 3,
   "metadata": {},
   "outputs": [],
   "source": [
    "# Spin up a local Spark Session (with 4 executors)\n",
    "spark = SparkSession.builder.master('local[4]').appName('my_awesome').getOrCreate()"
   ]
  },
  {
   "cell_type": "code",
   "execution_count": 4,
   "metadata": {},
   "outputs": [],
   "source": [
    "# Convert to Spark DF\n",
    "dns_df.dropna(inplace=True)\n",
    "spark_df = spark.createDataFrame(dns_df)"
   ]
  },
  {
   "cell_type": "code",
   "execution_count": 5,
   "metadata": {},
   "outputs": [
    {
     "name": "stdout",
     "output_type": "stream",
     "text": [
      "Number of Spark DataFrame rows: 51\n",
      "Columns: uid,id.orig_h,id.orig_p,id.resp_h,id.resp_p,proto,trans_id,query,qclass,qclass_name,qtype,qtype_name,rcode,rcode_name,AA,TC,RD,RA,Z,answers,TTLs,rejected\n"
     ]
    }
   ],
   "source": [
    "# Some simple spark operations\n",
    "num_rows = spark_df.count()\n",
    "print(\"Number of Spark DataFrame rows: {:d}\".format(num_rows))\n",
    "columns = spark_df.columns\n",
    "print(\"Columns: {:s}\".format(','.join(columns)))"
   ]
  },
  {
   "cell_type": "code",
   "execution_count": 6,
   "metadata": {},
   "outputs": [
    {
     "name": "stdout",
     "output_type": "stream",
     "text": [
      "+-----+-----+\n",
      "|proto|count|\n",
      "+-----+-----+\n",
      "|  tcp|    3|\n",
      "|  udp|   48|\n",
      "+-----+-----+\n",
      "\n"
     ]
    }
   ],
   "source": [
    "# Some simple spark operations\n",
    "spark_df.groupBy('proto').count().show()"
   ]
  },
  {
   "cell_type": "markdown",
   "metadata": {},
   "source": [
    "<div style=\"float: right; margin: 0px 0px 0px -30px\"><img src=\"images/confused.jpg\" width=\"150px\"></div>\n",
    "\n",
    "### Note: Spark/PySpark does not like column names with a '.' in them\n",
    "So for the fields like 'id.orig_h' we have to put the backticks around them ( \\`id.orig_h\\` )"
   ]
  },
  {
   "cell_type": "code",
   "execution_count": 7,
   "metadata": {},
   "outputs": [
    {
     "name": "stdout",
     "output_type": "stream",
     "text": [
      "+-------------+---------+-----+\n",
      "|    id.orig_h|id.resp_h|count|\n",
      "+-------------+---------+-----+\n",
      "|192.168.33.10|  8.8.8.8|   12|\n",
      "|192.168.33.10|  4.2.2.3|   39|\n",
      "+-------------+---------+-----+\n",
      "\n"
     ]
    }
   ],
   "source": [
    "# Some simple spark operations\n",
    "spark_df.groupBy('`id.orig_h`', '`id.resp_h`').count().show()"
   ]
  },
  {
   "cell_type": "code",
   "execution_count": 8,
   "metadata": {},
   "outputs": [
    {
     "name": "stdout",
     "output_type": "stream",
     "text": [
      "+--------------------+------------+\n",
      "|               query|query_length|\n",
      "+--------------------+------------+\n",
      "|          guyspy.com|          10|\n",
      "|      www.guyspy.com|          14|\n",
      "|devrubn8mli40.clo...|          28|\n",
      "|d31qbv1cthcecs.cl...|          29|\n",
      "|     crl.entrust.net|          15|\n",
      "|   crl3.digicert.com|          17|\n",
      "|stats.g.doublecli...|          23|\n",
      "|www.googletagserv...|          25|\n",
      "|dev.visualwebsite...|          30|\n",
      "|partner.googleads...|          28|\n",
      "|www.google-analyt...|          24|\n",
      "|d5nxst8fruw4z.clo...|          28|\n",
      "|pubads.g.doublecl...|          24|\n",
      "|tag.gayadnetwork.com|          20|\n",
      "|      cdn.guyspy.com|          14|\n",
      "|pagead2.googlesyn...|          29|\n",
      "|        ib.adnxs.com|          12|\n",
      "|googleads.g.doubl...|          27|\n",
      "|    www.facebook.com|          16|\n",
      "|   lax1.ib.adnxs.com|          17|\n",
      "+--------------------+------------+\n",
      "only showing top 20 rows\n",
      "\n"
     ]
    }
   ],
   "source": [
    "# Add a column with the string length of the DNS query\n",
    "from pyspark.sql.functions import col, length\n",
    "\n",
    "# Create new dataframe that includes new column\n",
    "spark_df = spark_df.withColumn('query_length', length(col('query')))\n",
    "spark_df[['query', 'query_length']].show()"
   ]
  },
  {
   "cell_type": "code",
   "execution_count": 10,
   "metadata": {},
   "outputs": [],
   "source": [
    "# Plotting defaults\n",
    "%matplotlib inline\n",
    "import matplotlib.pyplot as plt\n",
    "from bat.utils import plot_utils\n",
    "plot_utils.plot_defaults()"
   ]
  },
  {
   "cell_type": "code",
   "execution_count": 11,
   "metadata": {},
   "outputs": [
    {
     "data": {
      "text/plain": [
       "Text(0, 0.5, 'Counts')"
      ]
     },
     "execution_count": 11,
     "metadata": {},
     "output_type": "execute_result"
    },
    {
     "data": {
      "image/png": "[encoded data removed]",
      "text/plain": [
       "<Figure size 1152x432 with 1 Axes>"
      ]
     },
     "metadata": {
      "needs_background": "light"
     },
     "output_type": "display_data"
    }
   ],
   "source": [
    "# Show histogram of the Spark DF query lengths\n",
    "bins, counts = spark_df.select('query_length').rdd.flatMap(lambda x: x).histogram(20)\n",
    "\n",
    "# This is a bit awkward but I believe this is the correct way to do it\n",
    "plt.hist(bins[:-1], bins=bins, weights=counts)\n",
    "plt.grid(True)\n",
    "plt.xlabel('Query Lengths')\n",
    "plt.ylabel('Counts')"
   ]
  },
  {
   "cell_type": "code",
   "execution_count": 12,
   "metadata": {},
   "outputs": [
    {
     "data": {
      "text/plain": [
       "Text(0, 0.5, 'Counts')"
      ]
     },
     "execution_count": 12,
     "metadata": {},
     "output_type": "execute_result"
    },
    {
     "data": {
      "image/png": "[encoded data removed]",
      "text/plain": [
       "<Figure size 1152x432 with 1 Axes>"
      ]
     },
     "metadata": {
      "needs_background": "light"
     },
     "output_type": "display_data"
    }
   ],
   "source": [
    "# Compare the computation of query_length and resulting histogram with Pandas\n",
    "dns_df['query_length'] = dns_df['query'].str.len()\n",
    "dns_df['query_length'].hist(bins=20)\n",
    "plt.xlabel('Query Lengths')\n",
    "plt.ylabel('Counts')"
   ]
  },
  {
   "cell_type": "markdown",
   "metadata": {},
   "source": [
    "<div style=\"float: right; margin: 20px 0px 0px 0px\"><img src=\"images/spark.png\" width=\"150px\"></div>\n",
    "\n",
    "# That was easy.. is this the same as 'real' Spark?\n",
    "Yep, if you've gotten this far you are running a local instance of the Spark server with all the exact same functionality as any Spark cluster (minus the scalability that comes with lots of nodes obviously).\n",
    "\n",
    "Check out your Spark jobs by simply going to http://localhost:4040\n",
    "\n",
    "<div style=\"margin: 20px 0px 0px 0px\"><img src=\"images/spark_jobs.png\" width=\"600px\"></div>"
   ]
  },
  {
   "cell_type": "markdown",
   "metadata": {},
   "source": [
    "## Wrap Up\n",
    "Well that's it for this notebook. With a few simple pip installs you are ready to try out Spark on your Bro Logs. Yes it will only work on smaller data but it gets you **'in the saddle'** quickly. You can try some stuff out, get familiar with Spark and then dive into setting it up the right way:\n",
    "- https://github.com/SuperCowPowers/bat/blob/master/notebooks/Bro_to_Parquet_to_Spark.ipynb\n",
    "- https://github.com/SuperCowPowers/bat/blob/master/notebooks/Bro_to_Kafka_to_Spark.ipynb\n",
    "\n",
    "If you liked this notebook please visit the [bat](https://github.com/SuperCowPowers/bat) project for more notebooks and examples.\n"
   ]
  }
 ],
 "metadata": {
  "kernelspec": {
   "display_name": "Python 3",
   "language": "python",
   "name": "python3"
  },
  "language_info": {
   "codemirror_mode": {
    "name": "ipython",
    "version": 3
   },
   "file_extension": ".py",
   "mimetype": "text/x-python",
   "name": "python",
   "nbconvert_exporter": "python",
   "pygments_lexer": "ipython3",
   "version": "3.7.4"
  }
 },
 "nbformat": 4,
 "nbformat_minor": 2
}
